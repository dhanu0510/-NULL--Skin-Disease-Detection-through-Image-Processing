{
 "cells": [
  {
   "cell_type": "markdown",
   "metadata": {
    "id": "rqoyx2epnnE7"
   },
   "source": [
    "## CNN"
   ]
  },
  {
   "cell_type": "code",
   "execution_count": 1,
   "metadata": {
    "executionInfo": {
     "elapsed": 1064,
     "status": "ok",
     "timestamp": 1614405422867,
     "user": {
      "displayName": "Dhananjay Patel",
      "photoUrl": "",
      "userId": "11535271142326225404"
     },
     "user_tz": -330
    },
    "id": "f0-dcXUMnjUU"
   },
   "outputs": [],
   "source": [
    "import numpy as np\n",
    "import keras\n",
    "from keras.models import Sequential\n",
    "from keras.layers import Conv2D\n",
    "from keras.layers import MaxPooling2D\n",
    "from keras.layers import Flatten\n",
    "from keras.layers import Dense"
   ]
  },
  {
   "cell_type": "code",
   "execution_count": 2,
   "metadata": {
    "executionInfo": {
     "elapsed": 1513,
     "status": "ok",
     "timestamp": 1614405423525,
     "user": {
      "displayName": "Dhananjay Patel",
      "photoUrl": "",
      "userId": "11535271142326225404"
     },
     "user_tz": -330
    },
    "id": "khvvf80unsoS"
   },
   "outputs": [],
   "source": [
    "CNN = Sequential();\n",
    "\n",
    "CNN.add(Conv2D(32,(3,3),input_shape=(150,150,3),activation='relu'))\n",
    "CNN.add(MaxPooling2D(pool_size=(2,2)))\n",
    "\n",
    "CNN.add(Conv2D(64,(3,3),activation='relu'))\n",
    "CNN.add(MaxPooling2D(pool_size=(2,2)))\n",
    "\n",
    "CNN.add(Conv2D(64,(3,3),activation='relu'))\n",
    "CNN.add(MaxPooling2D(pool_size=(2,2)))\n",
    "\n",
    "CNN.add(Conv2D(128,(3,3),activation='relu'))\n",
    "CNN.add(MaxPooling2D(pool_size=(2,2)))\n",
    "\n",
    "CNN.add(Flatten())\n",
    "\n",
    "# hidden layers\n",
    "CNN.add(Dense(units =128, activation='relu'))\n",
    "CNN.add(Dense(units = 7,activation='softmax'))\n"
   ]
  },
  {
   "cell_type": "code",
   "execution_count": 3,
   "metadata": {
    "colab": {
     "base_uri": "https://localhost:8080/"
    },
    "executionInfo": {
     "elapsed": 1093,
     "status": "ok",
     "timestamp": 1614405426229,
     "user": {
      "displayName": "Dhananjay Patel",
      "photoUrl": "",
      "userId": "11535271142326225404"
     },
     "user_tz": -330
    },
    "id": "taAliVJOXrNd",
    "outputId": "c408f5e5-24a9-44b1-a4bd-9fa1f213e709"
   },
   "outputs": [
    {
     "name": "stdout",
     "output_type": "stream",
     "text": [
      "Model: \"sequential\"\n",
      "_________________________________________________________________\n",
      "Layer (type)                 Output Shape              Param #   \n",
      "=================================================================\n",
      "conv2d (Conv2D)              (None, 148, 148, 32)      896       \n",
      "_________________________________________________________________\n",
      "max_pooling2d (MaxPooling2D) (None, 74, 74, 32)        0         \n",
      "_________________________________________________________________\n",
      "conv2d_1 (Conv2D)            (None, 72, 72, 64)        18496     \n",
      "_________________________________________________________________\n",
      "max_pooling2d_1 (MaxPooling2 (None, 36, 36, 64)        0         \n",
      "_________________________________________________________________\n",
      "conv2d_2 (Conv2D)            (None, 34, 34, 64)        36928     \n",
      "_________________________________________________________________\n",
      "max_pooling2d_2 (MaxPooling2 (None, 17, 17, 64)        0         \n",
      "_________________________________________________________________\n",
      "conv2d_3 (Conv2D)            (None, 15, 15, 128)       73856     \n",
      "_________________________________________________________________\n",
      "max_pooling2d_3 (MaxPooling2 (None, 7, 7, 128)         0         \n",
      "_________________________________________________________________\n",
      "flatten (Flatten)            (None, 6272)              0         \n",
      "_________________________________________________________________\n",
      "dense (Dense)                (None, 128)               802944    \n",
      "_________________________________________________________________\n",
      "dense_1 (Dense)              (None, 7)                 903       \n",
      "=================================================================\n",
      "Total params: 934,023\n",
      "Trainable params: 934,023\n",
      "Non-trainable params: 0\n",
      "_________________________________________________________________\n"
     ]
    }
   ],
   "source": [
    "CNN.summary()"
   ]
  },
  {
   "cell_type": "code",
   "execution_count": 4,
   "metadata": {
    "executionInfo": {
     "elapsed": 1153,
     "status": "ok",
     "timestamp": 1614405430376,
     "user": {
      "displayName": "Dhananjay Patel",
      "photoUrl": "",
      "userId": "11535271142326225404"
     },
     "user_tz": -330
    },
    "id": "fQrX4t0pnuAJ"
   },
   "outputs": [],
   "source": [
    "# compiling\n",
    "CNN.compile(optimizer='adam',loss='CategoricalCrossentropy',metrics =['accuracy'])"
   ]
  },
  {
   "cell_type": "code",
   "execution_count": 5,
   "metadata": {
    "executionInfo": {
     "elapsed": 1160,
     "status": "ok",
     "timestamp": 1614398536435,
     "user": {
      "displayName": "Dhananjay Patel",
      "photoUrl": "",
      "userId": "11535271142326225404"
     },
     "user_tz": -330
    },
    "id": "-UC7auIjozH3"
   },
   "outputs": [],
   "source": [
    "img_width,img_height = 150,150\n",
    "train_data_dir = \"/train\"\n",
    "validation_data_dir = \"/train\"\n",
    "batch_size = 500"
   ]
  },
  {
   "cell_type": "code",
   "execution_count": 6,
   "metadata": {
    "executionInfo": {
     "elapsed": 2664,
     "status": "ok",
     "timestamp": 1614398662143,
     "user": {
      "displayName": "Dhananjay Patel",
      "photoUrl": "",
      "userId": "11535271142326225404"
     },
     "user_tz": -330
    },
    "id": "H1FOjYv2przH"
   },
   "outputs": [],
   "source": [
    "from keras.preprocessing.image import ImageDataGenerator\n",
    "train_datagen = ImageDataGenerator(\n",
    "        rescale=1./255,\n",
    "        shear_range=0.2,\n",
    "        zoom_range=0.2,\n",
    "        horizontal_flip=True,\n",
    "        validation_split = 0.5)"
   ]
  },
  {
   "cell_type": "code",
   "execution_count": 11,
   "metadata": {
    "colab": {
     "base_uri": "https://localhost:8080/"
    },
    "executionInfo": {
     "elapsed": 2008,
     "status": "ok",
     "timestamp": 1614398984702,
     "user": {
      "displayName": "Dhananjay Patel",
      "photoUrl": "",
      "userId": "11535271142326225404"
     },
     "user_tz": -330
    },
    "id": "oqD-ZhWAn58d",
    "outputId": "2b8b216b-2d48-4b6f-89b4-f48d35e3c152"
   },
   "outputs": [
    {
     "name": "stdout",
     "output_type": "stream",
     "text": [
      "Found 10015 images belonging to 7 classes.\n",
      "Found 10015 images belonging to 7 classes.\n"
     ]
    }
   ],
   "source": [
    "\n",
    "test_datagen = ImageDataGenerator(rescale=1./255)\n",
    "train_generator = train_datagen.flow_from_directory(\n",
    "        train_data_dir,\n",
    "        target_size=(150, 150),\n",
    "        batch_size=batch_size,\n",
    "        class_mode='categorical')\n",
    "test_datagen = ImageDataGenerator(rescale=1./255)\n",
    "validation_generator = test_datagen.flow_from_directory(\n",
    "        validation_data_dir,\n",
    "        target_size=(150, 150),\n",
    "        batch_size=batch_size,\n",
    "        class_mode='categorical')"
   ]
  },
  {
   "cell_type": "code",
   "execution_count": null,
   "metadata": {
    "id": "9PqaEhktWIoN"
   },
   "outputs": [],
   "source": [
    "# CNN.fit(train_generator)"
   ]
  },
  {
   "cell_type": "code",
   "execution_count": null,
   "metadata": {
    "id": "qaMWAynToDGi"
   },
   "outputs": [],
   "source": [
    "CNN.fit(\n",
    "        train_generator,\n",
    "        steps_per_epoch=500,\n",
    "        epochs=95,\n",
    "        validation_data=validation_generator,\n",
    "        validation_steps=100)"
   ]
  },
  {
   "cell_type": "code",
   "execution_count": 17,
   "metadata": {
    "executionInfo": {
     "elapsed": 1036,
     "status": "ok",
     "timestamp": 1614405314252,
     "user": {
      "displayName": "Dhananjay Patel",
      "photoUrl": "",
      "userId": "11535271142326225404"
     },
     "user_tz": -330
    },
    "id": "eYhjHN0BUuHQ"
   },
   "outputs": [],
   "source": [
    "CNN.save('model.h5')"
   ]
  },
  {
   "cell_type": "code",
   "execution_count": 7,
   "metadata": {
    "id": "Yi147IoGDiJp"
   },
   "outputs": [],
   "source": [
    "# Accuracy: 76%"
   ]
  },
  {
   "cell_type": "code",
   "execution_count": null,
   "metadata": {},
   "outputs": [],
   "source": []
  }
 ],
 "metadata": {
  "accelerator": "GPU",
  "colab": {
   "authorship_tag": "ABX9TyOzwl2k1fcBCsgFlMWt8j3C",
   "mount_file_id": "1LZAt5Btwje-Ev4tsptRlFaQzzmnWmam5",
   "name": "training.ipynb",
   "provenance": []
  },
  "kernelspec": {
   "display_name": "Python 3",
   "language": "python",
   "name": "python3"
  },
  "language_info": {
   "codemirror_mode": {
    "name": "ipython",
    "version": 3
   },
   "file_extension": ".py",
   "mimetype": "text/x-python",
   "name": "python",
   "nbconvert_exporter": "python",
   "pygments_lexer": "ipython3",
   "version": "3.7.6"
  },
  "toc": {
   "base_numbering": 1,
   "nav_menu": {},
   "number_sections": true,
   "sideBar": true,
   "skip_h1_title": false,
   "title_cell": "Table of Contents",
   "title_sidebar": "Contents",
   "toc_cell": false,
   "toc_position": {},
   "toc_section_display": true,
   "toc_window_display": false
  }
 },
 "nbformat": 4,
 "nbformat_minor": 1
}
