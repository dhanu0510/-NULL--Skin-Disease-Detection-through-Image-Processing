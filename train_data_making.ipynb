{
 "cells": [
  {
   "cell_type": "code",
   "execution_count": 22,
   "metadata": {
    "id": "iK-qs3q4qTtr"
   },
   "outputs": [],
   "source": [
    "# !unzip /content/drive/MyDrive/Hakathons/#1_Nirma/dataverse_files/HAM10000_images_part_1.zip -d /content/drive/MyDrive/Hakathons/#1_Nirma/Input/"
   ]
  },
  {
   "cell_type": "code",
   "execution_count": 23,
   "metadata": {
    "id": "xidhsycQq2QO"
   },
   "outputs": [],
   "source": [
    "# !unzip /content/drive/MyDrive/Hakathons/#1_Nirma/dataverse_files/HAM10000_images_part_2.zip -d /content/drive/MyDrive/Hakathons/#1_Nirma/Input/"
   ]
  },
  {
   "cell_type": "code",
   "execution_count": 1,
   "metadata": {
    "executionInfo": {
     "elapsed": 1454,
     "status": "ok",
     "timestamp": 1614357415219,
     "user": {
      "displayName": "Dhananjay Patel",
      "photoUrl": "",
      "userId": "11535271142326225404"
     },
     "user_tz": -330
    },
    "id": "xtlyQSe7q5LW"
   },
   "outputs": [],
   "source": [
    "import matplotlib.pyplot as plt\n",
    "import numpy as np\n",
    "import seaborn as sns"
   ]
  },
  {
   "cell_type": "code",
   "execution_count": 2,
   "metadata": {
    "colab": {
     "base_uri": "https://localhost:8080/",
     "height": 195
    },
    "executionInfo": {
     "elapsed": 1090,
     "status": "ok",
     "timestamp": 1614357415221,
     "user": {
      "displayName": "Dhananjay Patel",
      "photoUrl": "",
      "userId": "11535271142326225404"
     },
     "user_tz": -330
    },
    "id": "vDpG1Oxwro31",
    "outputId": "b3425e2c-f76b-4ecb-ff84-0d485cc66bcb"
   },
   "outputs": [
    {
     "data": {
      "text/html": [
       "<div>\n",
       "<style scoped>\n",
       "    .dataframe tbody tr th:only-of-type {\n",
       "        vertical-align: middle;\n",
       "    }\n",
       "\n",
       "    .dataframe tbody tr th {\n",
       "        vertical-align: top;\n",
       "    }\n",
       "\n",
       "    .dataframe thead th {\n",
       "        text-align: right;\n",
       "    }\n",
       "</style>\n",
       "<table border=\"1\" class=\"dataframe\">\n",
       "  <thead>\n",
       "    <tr style=\"text-align: right;\">\n",
       "      <th></th>\n",
       "      <th>lesion_id</th>\n",
       "      <th>image_id</th>\n",
       "      <th>dx</th>\n",
       "      <th>dx_type</th>\n",
       "      <th>age</th>\n",
       "      <th>sex</th>\n",
       "      <th>localization</th>\n",
       "      <th>dataset</th>\n",
       "    </tr>\n",
       "  </thead>\n",
       "  <tbody>\n",
       "    <tr>\n",
       "      <th>0</th>\n",
       "      <td>HAM_0000118</td>\n",
       "      <td>ISIC_0027419</td>\n",
       "      <td>bkl</td>\n",
       "      <td>histo</td>\n",
       "      <td>80.0</td>\n",
       "      <td>male</td>\n",
       "      <td>scalp</td>\n",
       "      <td>vidir_modern</td>\n",
       "    </tr>\n",
       "    <tr>\n",
       "      <th>1</th>\n",
       "      <td>HAM_0000118</td>\n",
       "      <td>ISIC_0025030</td>\n",
       "      <td>bkl</td>\n",
       "      <td>histo</td>\n",
       "      <td>80.0</td>\n",
       "      <td>male</td>\n",
       "      <td>scalp</td>\n",
       "      <td>vidir_modern</td>\n",
       "    </tr>\n",
       "    <tr>\n",
       "      <th>2</th>\n",
       "      <td>HAM_0002730</td>\n",
       "      <td>ISIC_0026769</td>\n",
       "      <td>bkl</td>\n",
       "      <td>histo</td>\n",
       "      <td>80.0</td>\n",
       "      <td>male</td>\n",
       "      <td>scalp</td>\n",
       "      <td>vidir_modern</td>\n",
       "    </tr>\n",
       "    <tr>\n",
       "      <th>3</th>\n",
       "      <td>HAM_0002730</td>\n",
       "      <td>ISIC_0025661</td>\n",
       "      <td>bkl</td>\n",
       "      <td>histo</td>\n",
       "      <td>80.0</td>\n",
       "      <td>male</td>\n",
       "      <td>scalp</td>\n",
       "      <td>vidir_modern</td>\n",
       "    </tr>\n",
       "    <tr>\n",
       "      <th>4</th>\n",
       "      <td>HAM_0001466</td>\n",
       "      <td>ISIC_0031633</td>\n",
       "      <td>bkl</td>\n",
       "      <td>histo</td>\n",
       "      <td>75.0</td>\n",
       "      <td>male</td>\n",
       "      <td>ear</td>\n",
       "      <td>vidir_modern</td>\n",
       "    </tr>\n",
       "  </tbody>\n",
       "</table>\n",
       "</div>"
      ],
      "text/plain": [
       "     lesion_id      image_id   dx dx_type   age   sex localization  \\\n",
       "0  HAM_0000118  ISIC_0027419  bkl   histo  80.0  male        scalp   \n",
       "1  HAM_0000118  ISIC_0025030  bkl   histo  80.0  male        scalp   \n",
       "2  HAM_0002730  ISIC_0026769  bkl   histo  80.0  male        scalp   \n",
       "3  HAM_0002730  ISIC_0025661  bkl   histo  80.0  male        scalp   \n",
       "4  HAM_0001466  ISIC_0031633  bkl   histo  75.0  male          ear   \n",
       "\n",
       "        dataset  \n",
       "0  vidir_modern  \n",
       "1  vidir_modern  \n",
       "2  vidir_modern  \n",
       "3  vidir_modern  \n",
       "4  vidir_modern  "
      ]
     },
     "execution_count": 2,
     "metadata": {},
     "output_type": "execute_result"
    }
   ],
   "source": [
    "import pandas as pd\n",
    "data = pd.read_csv(\"Data_csv/data.csv\");\n",
    "data.head()"
   ]
  },
  {
   "cell_type": "code",
   "execution_count": 3,
   "metadata": {
    "colab": {
     "base_uri": "https://localhost:8080/"
    },
    "executionInfo": {
     "elapsed": 766,
     "status": "ok",
     "timestamp": 1614357415223,
     "user": {
      "displayName": "Dhananjay Patel",
      "photoUrl": "",
      "userId": "11535271142326225404"
     },
     "user_tz": -330
    },
    "id": "JwMpeeqUrq9E",
    "outputId": "9ae0d187-9da0-44ce-b538-5a9732549b1c"
   },
   "outputs": [
    {
     "data": {
      "text/plain": [
       "nv       6705\n",
       "mel      1113\n",
       "bkl      1099\n",
       "bcc       514\n",
       "akiec     327\n",
       "vasc      142\n",
       "df        115\n",
       "Name: dx, dtype: int64"
      ]
     },
     "execution_count": 3,
     "metadata": {},
     "output_type": "execute_result"
    }
   ],
   "source": [
    "data['dx'].value_counts()"
   ]
  },
  {
   "cell_type": "code",
   "execution_count": 4,
   "metadata": {
    "colab": {
     "base_uri": "https://localhost:8080/",
     "height": 195
    },
    "executionInfo": {
     "elapsed": 2917,
     "status": "ok",
     "timestamp": 1614357418249,
     "user": {
      "displayName": "Dhananjay Patel",
      "photoUrl": "",
      "userId": "11535271142326225404"
     },
     "user_tz": -330
    },
    "id": "-lnGUO9Srs14",
    "outputId": "c955ddb6-2d12-43a7-a2ef-d716401de3cd"
   },
   "outputs": [
    {
     "data": {
      "text/html": [
       "<div>\n",
       "<style scoped>\n",
       "    .dataframe tbody tr th:only-of-type {\n",
       "        vertical-align: middle;\n",
       "    }\n",
       "\n",
       "    .dataframe tbody tr th {\n",
       "        vertical-align: top;\n",
       "    }\n",
       "\n",
       "    .dataframe thead th {\n",
       "        text-align: right;\n",
       "    }\n",
       "</style>\n",
       "<table border=\"1\" class=\"dataframe\">\n",
       "  <thead>\n",
       "    <tr style=\"text-align: right;\">\n",
       "      <th></th>\n",
       "      <th>image_id</th>\n",
       "      <th>dx</th>\n",
       "    </tr>\n",
       "  </thead>\n",
       "  <tbody>\n",
       "    <tr>\n",
       "      <th>0</th>\n",
       "      <td>ISIC_0027419</td>\n",
       "      <td>bkl</td>\n",
       "    </tr>\n",
       "    <tr>\n",
       "      <th>1</th>\n",
       "      <td>ISIC_0025030</td>\n",
       "      <td>bkl</td>\n",
       "    </tr>\n",
       "    <tr>\n",
       "      <th>2</th>\n",
       "      <td>ISIC_0026769</td>\n",
       "      <td>bkl</td>\n",
       "    </tr>\n",
       "    <tr>\n",
       "      <th>3</th>\n",
       "      <td>ISIC_0025661</td>\n",
       "      <td>bkl</td>\n",
       "    </tr>\n",
       "    <tr>\n",
       "      <th>4</th>\n",
       "      <td>ISIC_0031633</td>\n",
       "      <td>bkl</td>\n",
       "    </tr>\n",
       "  </tbody>\n",
       "</table>\n",
       "</div>"
      ],
      "text/plain": [
       "       image_id   dx\n",
       "0  ISIC_0027419  bkl\n",
       "1  ISIC_0025030  bkl\n",
       "2  ISIC_0026769  bkl\n",
       "3  ISIC_0025661  bkl\n",
       "4  ISIC_0031633  bkl"
      ]
     },
     "execution_count": 4,
     "metadata": {},
     "output_type": "execute_result"
    }
   ],
   "source": [
    "# remove useless column \n",
    "data_1 = data.drop([\"lesion_id\",\"dx_type\",\"age\",\"sex\",\"localization\",\"dataset\"],axis = 1)\n",
    "data_1.head()"
   ]
  },
  {
   "cell_type": "code",
   "execution_count": 5,
   "metadata": {
    "colab": {
     "base_uri": "https://localhost:8080/"
    },
    "executionInfo": {
     "elapsed": 3700,
     "status": "ok",
     "timestamp": 1614357419762,
     "user": {
      "displayName": "Dhananjay Patel",
      "photoUrl": "",
      "userId": "11535271142326225404"
     },
     "user_tz": -330
    },
    "id": "a5gCOKjfruGZ",
    "outputId": "bb9e98cf-54b9-4fbc-cc33-a087aa8c80f5"
   },
   "outputs": [
    {
     "data": {
      "text/plain": [
       "0    ISIC_0027419\n",
       "1    ISIC_0025030\n",
       "2    ISIC_0026769\n",
       "3    ISIC_0025661\n",
       "4    ISIC_0031633\n",
       "Name: image_id, dtype: object"
      ]
     },
     "execution_count": 5,
     "metadata": {},
     "output_type": "execute_result"
    }
   ],
   "source": [
    "X = data_1[\"image_id\"]\n",
    "X.head()"
   ]
  },
  {
   "cell_type": "code",
   "execution_count": 8,
   "metadata": {
    "id": "dD2GjJhxrvzL"
   },
   "outputs": [],
   "source": [
    "# plt.imshow(\"Input/ISIC_0024306.jpg\")\n",
    "# img=plt.imread(\"Input/\"+X[0]+\".jpg\")\n",
    "# plt.imshow(img)"
   ]
  },
  {
   "cell_type": "code",
   "execution_count": 9,
   "metadata": {
    "colab": {
     "base_uri": "https://localhost:8080/"
    },
    "executionInfo": {
     "elapsed": 2707,
     "status": "ok",
     "timestamp": 1614357421787,
     "user": {
      "displayName": "Dhananjay Patel",
      "photoUrl": "",
      "userId": "11535271142326225404"
     },
     "user_tz": -330
    },
    "id": "CRQg7QhHrxkh",
    "outputId": "ed7941c7-ebc6-4466-8680-b14be8efd752"
   },
   "outputs": [
    {
     "data": {
      "text/plain": [
       "['Input/ISIC_0027419.jpg',\n",
       " 'Input/ISIC_0025030.jpg',\n",
       " 'Input/ISIC_0026769.jpg',\n",
       " 'Input/ISIC_0025661.jpg',\n",
       " 'Input/ISIC_0031633.jpg',\n",
       " 'Input/ISIC_0027850.jpg',\n",
       " 'Input/ISIC_0029176.jpg',\n",
       " 'Input/ISIC_0029068.jpg',\n",
       " 'Input/ISIC_0025837.jpg',\n",
       " 'Input/ISIC_0025209.jpg']"
      ]
     },
     "execution_count": 9,
     "metadata": {},
     "output_type": "execute_result"
    }
   ],
   "source": [
    "filenames = [\"Input/\" + fname + \".jpg\" for fname in data_1[\"image_id\"]]\n",
    "filenames[:10]"
   ]
  },
  {
   "cell_type": "code",
   "execution_count": 10,
   "metadata": {
    "id": "2OsyG-NZr0um"
   },
   "outputs": [],
   "source": [
    "# img = plt.imread(filenames[10000])\n",
    "# plt.imshow(img)"
   ]
  },
  {
   "cell_type": "code",
   "execution_count": 11,
   "metadata": {
    "colab": {
     "base_uri": "https://localhost:8080/"
    },
    "executionInfo": {
     "elapsed": 2376,
     "status": "ok",
     "timestamp": 1614357423506,
     "user": {
      "displayName": "Dhananjay Patel",
      "photoUrl": "",
      "userId": "11535271142326225404"
     },
     "user_tz": -330
    },
    "id": "O7lhNjb3r1_-",
    "outputId": "8f740abd-0d92-4add-f028-21d8031c50e3"
   },
   "outputs": [
    {
     "data": {
      "text/plain": [
       "((10015,), (10015,))"
      ]
     },
     "execution_count": 11,
     "metadata": {},
     "output_type": "execute_result"
    }
   ],
   "source": [
    "X = pd.Series(filenames)\n",
    "y = data_1[\"dx\"]\n",
    "X.shape, y.shape"
   ]
  },
  {
   "cell_type": "code",
   "execution_count": 12,
   "metadata": {
    "colab": {
     "base_uri": "https://localhost:8080/",
     "height": 35
    },
    "executionInfo": {
     "elapsed": 1780,
     "status": "ok",
     "timestamp": 1614357423507,
     "user": {
      "displayName": "Dhananjay Patel",
      "photoUrl": "",
      "userId": "11535271142326225404"
     },
     "user_tz": -330
    },
    "id": "iOVaRjqNsAag",
    "outputId": "6ef58648-95a8-4407-f87c-a423fac6a4d2"
   },
   "outputs": [
    {
     "data": {
      "text/plain": [
       "'bkl'"
      ]
     },
     "execution_count": 12,
     "metadata": {},
     "output_type": "execute_result"
    }
   ],
   "source": [
    "y[0]"
   ]
  },
  {
   "cell_type": "code",
   "execution_count": 13,
   "metadata": {
    "colab": {
     "base_uri": "https://localhost:8080/"
    },
    "executionInfo": {
     "elapsed": 3010,
     "status": "ok",
     "timestamp": 1614357425163,
     "user": {
      "displayName": "Dhananjay Patel",
      "photoUrl": "",
      "userId": "11535271142326225404"
     },
     "user_tz": -330
    },
    "id": "fI7mRo-fsCdZ",
    "outputId": "713548fe-0720-446a-f332-40d4cdb6abeb"
   },
   "outputs": [
    {
     "data": {
      "text/plain": [
       "nv       6705\n",
       "mel      1113\n",
       "bkl      1099\n",
       "bcc       514\n",
       "akiec     327\n",
       "vasc      142\n",
       "df        115\n",
       "Name: dx, dtype: int64"
      ]
     },
     "execution_count": 13,
     "metadata": {},
     "output_type": "execute_result"
    }
   ],
   "source": [
    "y.value_counts()"
   ]
  },
  {
   "cell_type": "code",
   "execution_count": 34,
   "metadata": {
    "executionInfo": {
     "elapsed": 2333,
     "status": "ok",
     "timestamp": 1614357425164,
     "user": {
      "displayName": "Dhananjay Patel",
      "photoUrl": "",
      "userId": "11535271142326225404"
     },
     "user_tz": -330
    },
    "id": "zhujjWu7sJXj"
   },
   "outputs": [],
   "source": [
    "# /content/drive/MyDrive/Hakathons/#1_Nirma/Images/akiec"
   ]
  },
  {
   "cell_type": "code",
   "execution_count": 14,
   "metadata": {
    "colab": {
     "base_uri": "https://localhost:8080/",
     "height": 35
    },
    "executionInfo": {
     "elapsed": 1872,
     "status": "ok",
     "timestamp": 1614357425165,
     "user": {
      "displayName": "Dhananjay Patel",
      "photoUrl": "",
      "userId": "11535271142326225404"
     },
     "user_tz": -330
    },
    "id": "DXO1n21BtgVg",
    "outputId": "e817bea7-777b-41ff-969e-929b72dd6ea8"
   },
   "outputs": [
    {
     "data": {
      "text/plain": [
       "'Input/ISIC_0027419.jpg'"
      ]
     },
     "execution_count": 14,
     "metadata": {},
     "output_type": "execute_result"
    }
   ],
   "source": [
    "X[0]"
   ]
  },
  {
   "cell_type": "code",
   "execution_count": 15,
   "metadata": {
    "colab": {
     "base_uri": "https://localhost:8080/",
     "height": 35
    },
    "executionInfo": {
     "elapsed": 3429,
     "status": "ok",
     "timestamp": 1614357427187,
     "user": {
      "displayName": "Dhananjay Patel",
      "photoUrl": "",
      "userId": "11535271142326225404"
     },
     "user_tz": -330
    },
    "id": "_XxvPlAYwYmp",
    "outputId": "cb306ec9-2d01-43a2-ebf1-a6d3ce7da029"
   },
   "outputs": [
    {
     "data": {
      "text/plain": [
       "'bkl'"
      ]
     },
     "execution_count": 15,
     "metadata": {},
     "output_type": "execute_result"
    }
   ],
   "source": [
    "y[0]"
   ]
  },
  {
   "cell_type": "code",
   "execution_count": 37,
   "metadata": {
    "colab": {
     "base_uri": "https://localhost:8080/"
    },
    "executionInfo": {
     "elapsed": 2957,
     "status": "ok",
     "timestamp": 1614357427188,
     "user": {
      "displayName": "Dhananjay Patel",
      "photoUrl": "",
      "userId": "11535271142326225404"
     },
     "user_tz": -330
    },
    "id": "zbjXnQP-w41N",
    "outputId": "b94a491d-1c36-4327-b872-1bcb379bc06a"
   },
   "outputs": [
    {
     "data": {
      "text/plain": [
       "0    bkl\n",
       "1    bkl\n",
       "2    bkl\n",
       "3    bkl\n",
       "4    bkl\n",
       "5    bkl\n",
       "6    bkl\n",
       "7    bkl\n",
       "8    bkl\n",
       "9    bkl\n",
       "Name: dx, dtype: object"
      ]
     },
     "execution_count": 37,
     "metadata": {
      "tags": []
     },
     "output_type": "execute_result"
    }
   ],
   "source": [
    "y[:10]"
   ]
  },
  {
   "cell_type": "code",
   "execution_count": 16,
   "metadata": {
    "executionInfo": {
     "elapsed": 2907,
     "status": "ok",
     "timestamp": 1614357428013,
     "user": {
      "displayName": "Dhananjay Patel",
      "photoUrl": "",
      "userId": "11535271142326225404"
     },
     "user_tz": -330
    },
    "id": "V75abRFyuakI"
   },
   "outputs": [],
   "source": [
    "import os\n",
    "import shutil\n",
    "import subprocess\n",
    "# shutil.copyfile(X[0], '/content/demo/demo.jpg')\n",
    "# !cp X[0] /content/demo/"
   ]
  },
  {
   "cell_type": "code",
   "execution_count": null,
   "metadata": {
    "id": "TwPyzDt9siTE"
   },
   "outputs": [],
   "source": [
    "for i in range(0,10015):\n",
    "  print(i)\n",
    "  if y[i] == \"akiec\":\n",
    "    shutil.move(X[i], '/train/akiec/' + str(i) + '.jpg')\n",
    "    # !cp X[i] /Images/akiec/\n",
    "  elif y[i] == \"bcc\":\n",
    "    shutil.move(X[i], '/train/bcc/' + str(i) + '.jpg')\n",
    "    # !cp X[i] /Images/bcc/\n",
    "  elif y[i] == \"bkl\":\n",
    "    shutil.move(X[i], '/train/bkl/' + str(i) + '.jpg')\n",
    "    # !cp X[i] /Images/bkl/\n",
    "  elif y[i] == \"df\":\n",
    "    shutil.move(X[i], '/train/df/' + str(i) + '.jpg')\n",
    "    # !cp X[i] /Images/df/\n",
    "  elif y[i] == \"mel\":\n",
    "    shutil.move(X[i], '/train/mel/' + str(i) + '.jpg')\n",
    "    # !cp X[i] /Images/mel/\n",
    "  elif y[i] == \"nv\":\n",
    "    shutil.move(X[i], '/train/nv/' + str(i) + '.jpg')\n",
    "    # !cp X[i] /Images/nv/\n",
    "  elif y[i] == \"vasc\":\n",
    "    shutil.move(X[i], '/train/vasc/' + str(i) + '.jpg')\n",
    "    # !cp X[i] /Images/vasc/"
   ]
  },
  {
   "cell_type": "code",
   "execution_count": 17,
   "metadata": {
    "id": "-Bj8cE_RtcKi"
   },
   "outputs": [],
   "source": [
    "# plt.imshow(\"/content/drive/MyDrive/Hakathons/#1_Nirma/Input_1/ISIC_0024306.jpg\")\n",
    "# img=plt.imread(X[2462])\n",
    "# plt.imshow(img)"
   ]
  },
  {
   "cell_type": "code",
   "execution_count": 18,
   "metadata": {
    "id": "reCAMmJDyQ7i"
   },
   "outputs": [],
   "source": [
    "# y[2462]"
   ]
  },
  {
   "cell_type": "code",
   "execution_count": 19,
   "metadata": {
    "id": "KfW_QieHx_8Y"
   },
   "outputs": [],
   "source": [
    "final_data = {\"Path\": X, \n",
    "        \"Disease \": y} \n",
    "  \n",
    "# Concatenating the series side \n",
    "# by side as depicted by axis=1 \n",
    "# If you want to concatenate the  \n",
    "# series one below the other \n",
    "# change the axis to zero. \n",
    "final_data = pd.concat(final_data, \n",
    "               axis = 1) "
   ]
  },
  {
   "cell_type": "code",
   "execution_count": 20,
   "metadata": {},
   "outputs": [
    {
     "data": {
      "text/html": [
       "<div>\n",
       "<style scoped>\n",
       "    .dataframe tbody tr th:only-of-type {\n",
       "        vertical-align: middle;\n",
       "    }\n",
       "\n",
       "    .dataframe tbody tr th {\n",
       "        vertical-align: top;\n",
       "    }\n",
       "\n",
       "    .dataframe thead th {\n",
       "        text-align: right;\n",
       "    }\n",
       "</style>\n",
       "<table border=\"1\" class=\"dataframe\">\n",
       "  <thead>\n",
       "    <tr style=\"text-align: right;\">\n",
       "      <th></th>\n",
       "      <th>Path</th>\n",
       "      <th>Disease</th>\n",
       "    </tr>\n",
       "  </thead>\n",
       "  <tbody>\n",
       "    <tr>\n",
       "      <th>0</th>\n",
       "      <td>Input/ISIC_0027419.jpg</td>\n",
       "      <td>bkl</td>\n",
       "    </tr>\n",
       "    <tr>\n",
       "      <th>1</th>\n",
       "      <td>Input/ISIC_0025030.jpg</td>\n",
       "      <td>bkl</td>\n",
       "    </tr>\n",
       "    <tr>\n",
       "      <th>2</th>\n",
       "      <td>Input/ISIC_0026769.jpg</td>\n",
       "      <td>bkl</td>\n",
       "    </tr>\n",
       "    <tr>\n",
       "      <th>3</th>\n",
       "      <td>Input/ISIC_0025661.jpg</td>\n",
       "      <td>bkl</td>\n",
       "    </tr>\n",
       "    <tr>\n",
       "      <th>4</th>\n",
       "      <td>Input/ISIC_0031633.jpg</td>\n",
       "      <td>bkl</td>\n",
       "    </tr>\n",
       "  </tbody>\n",
       "</table>\n",
       "</div>"
      ],
      "text/plain": [
       "                     Path Disease \n",
       "0  Input/ISIC_0027419.jpg      bkl\n",
       "1  Input/ISIC_0025030.jpg      bkl\n",
       "2  Input/ISIC_0026769.jpg      bkl\n",
       "3  Input/ISIC_0025661.jpg      bkl\n",
       "4  Input/ISIC_0031633.jpg      bkl"
      ]
     },
     "execution_count": 20,
     "metadata": {},
     "output_type": "execute_result"
    }
   ],
   "source": [
    "final_data.head()"
   ]
  },
  {
   "cell_type": "code",
   "execution_count": 21,
   "metadata": {},
   "outputs": [],
   "source": [
    "final_data.to_csv(\"modified_csv/data.csv\")"
   ]
  },
  {
   "cell_type": "code",
   "execution_count": null,
   "metadata": {},
   "outputs": [],
   "source": []
  }
 ],
 "metadata": {
  "accelerator": "GPU",
  "colab": {
   "authorship_tag": "ABX9TyNI5oa8OAho+xH/sol5/o2K",
   "mount_file_id": "1bSE-5hApfbnDfv9vtXmdm8tDLI5yuHMU",
   "name": "train_data_making.ipynb",
   "provenance": []
  },
  "kernelspec": {
   "display_name": "Python 3",
   "language": "python",
   "name": "python3"
  },
  "language_info": {
   "codemirror_mode": {
    "name": "ipython",
    "version": 3
   },
   "file_extension": ".py",
   "mimetype": "text/x-python",
   "name": "python",
   "nbconvert_exporter": "python",
   "pygments_lexer": "ipython3",
   "version": "3.7.6"
  },
  "toc": {
   "base_numbering": 1,
   "nav_menu": {},
   "number_sections": true,
   "sideBar": true,
   "skip_h1_title": false,
   "title_cell": "Table of Contents",
   "title_sidebar": "Contents",
   "toc_cell": false,
   "toc_position": {},
   "toc_section_display": true,
   "toc_window_display": false
  }
 },
 "nbformat": 4,
 "nbformat_minor": 1
}
